{
 "cells": [
  {
   "cell_type": "markdown",
   "source": [
    "# Lead Based Expand with Rule Based Classifier\n",
    "Summary\n",
    "---\n",
    "One of the Game Company would like to learn how much money its new customers will potentially spend by observing the purchasing movements within the application.\n",
    "\n",
    "The Company wants to segment its customers and plan the necessary notifications, additional scores or mail marketing.\n",
    "\n",
    "*The dataset includes the Country, Source, Age, Sex information of the customers and their game purchases.*\n",
    "\n",
    "Variables:\n",
    "---\n",
    "1. Price: Payments made by costumers\n",
    "2. Source: The operating system used, including IOS and Android\n",
    "3. Sex: Gender of users, Female and Male\n",
    "4. Country : Information from which country the costumers are from\n",
    "5. Age: Age of costumers\n",
    "\n"
   ],
   "metadata": {
    "collapsed": false
   }
  },
  {
   "cell_type": "code",
   "execution_count": 105,
   "outputs": [],
   "source": [
    "# Load the Pandas Module\n",
    "import pandas as pd"
   ],
   "metadata": {
    "collapsed": false
   }
  },
  {
   "cell_type": "code",
   "execution_count": 106,
   "outputs": [
    {
     "data": {
      "text/plain": "'\\n- get the first 5 rows to check if data loaded into the DF successfully\\n- check the dimensionality of the DataFrame\\n- Generate descriptive statistics from the dataset - {count, mean, std, min, max}\\n- Returns any values is missing in DataFrame\\n- Returns how many missing values exist in the DataFrame\\n'"
     },
     "execution_count": 106,
     "metadata": {},
     "output_type": "execute_result"
    }
   ],
   "source": [
    "# Read persona.csv file as pd.DF\n",
    "persona_df = pd.read_csv(\"resources/persona.csv\")\n",
    "\n",
    "# Observe the Dataset\n",
    "'''\n",
    "- get the first 5 rows to check if data loaded into the DF successfully\n",
    "- check the dimensionality of the DataFrame\n",
    "- Generate descriptive statistics from the dataset - {count, mean, std, min, max}\n",
    "- Returns any values is missing in DataFrame\n",
    "- Returns how many missing values exist in the DataFrame\n",
    "'''"
   ],
   "metadata": {
    "collapsed": false
   }
  },
  {
   "cell_type": "code",
   "execution_count": 107,
   "outputs": [
    {
     "data": {
      "text/plain": "PRICE      0\nSOURCE     0\nSEX        0\nCOUNTRY    0\nAGE        0\ndtype: int64"
     },
     "execution_count": 107,
     "metadata": {},
     "output_type": "execute_result"
    }
   ],
   "source": [
    "persona_df.head()\n",
    "persona_df.shape\n",
    "persona_df.describe().T\n",
    "persona_df.isnull().values.any()\n",
    "persona_df.isnull().sum()"
   ],
   "metadata": {
    "collapsed": false
   }
  },
  {
   "cell_type": "markdown",
   "source": [
    "# A. Observing Dataset for Segmentation\n",
    "A1. Observe the individual variables\n",
    "A2. Examine multiple variables together and observe their breakdown\n",
    "    A2.1 Getting the Index from DataFrame\n",
    "    A2.2 Further Divide the customer into Certain Age Group i.e. [0_18, 19_23, 24_30, 31_40, 41_70]\n",
    "    A2.3 Identify new label-based customers i.e new labels would be (country_source_sex_ageGroup) i.e. bra_android_male_41_70\n",
    "    A2.4 Further divide the label_based customers into 4 Groups {A,B,C,D} and describe each segment in terms of mean, max, min, sum of Pricing\n",
    "\n",
    "\n",
    "---"
   ],
   "metadata": {
    "collapsed": false
   }
  },
  {
   "cell_type": "markdown",
   "source": [
    "## A1. Observer Individual Variables"
   ],
   "metadata": {
    "collapsed": false
   }
  },
  {
   "cell_type": "code",
   "execution_count": 108,
   "outputs": [
    {
     "data": {
      "text/plain": "usa    2065\nbra    1496\ndeu     455\ntur     451\nfra     303\ncan     230\nName: COUNTRY, dtype: int64"
     },
     "execution_count": 108,
     "metadata": {},
     "output_type": "execute_result"
    }
   ],
   "source": [
    "# Get to know the DataSet better\n",
    "# Look at the unique value members and frequencies for a number of categorical variables\n",
    "# 1. Count number of Distinct OS used by the users . Here OS--> Variable \"SOURCE\"\n",
    "persona_df[\"SOURCE\"].nunique()       # return int : iOS and Andriod\n",
    "\n",
    "# Return count of Source Rows\n",
    "persona_df[\"SOURCE\"].value_counts()     # How many users using <andriod> devices, How many using <ios> devices\n",
    "\n",
    "# 2. Count distinct countries\n",
    "persona_df[\"COUNTRY\"].nunique()\n",
    "\n",
    "# Count total users from each country\n",
    "persona_df[\"COUNTRY\"].value_counts()\n"
   ],
   "metadata": {
    "collapsed": false
   }
  },
  {
   "cell_type": "markdown",
   "source": [
    "#\n",
    "# A2. Examine Multiple Variables Together and Observe their breakdown\n",
    "Using: **groupby** and **aggregation** functions\n",
    "Aggregate function - mean, median, prod,sum, std,var\n"
   ],
   "metadata": {
    "collapsed": false
   }
  },
  {
   "cell_type": "code",
   "execution_count": 109,
   "outputs": [
    {
     "data": {
      "text/plain": "<bound method Series.count of COUNTRY  SOURCE   SEX     AGE\nbra      android  male    46     59.0\nusa      android  male    36     59.0\nfra      android  female  24     59.0\nusa      ios      male    32     54.0\ndeu      android  female  36     49.0\n                                 ... \nusa      ios      female  38     19.0\n                          30     19.0\ncan      android  female  27     19.0\nfra      android  male    18     19.0\ndeu      android  male    26      9.0\nName: PRICE, Length: 348, dtype: float64>"
     },
     "execution_count": 109,
     "metadata": {},
     "output_type": "execute_result"
    }
   ],
   "source": [
    "# Country breakdown of payment average - how much avg payment is made from each country\n",
    "persona_df.groupby(\"COUNTRY\")[\"PRICE\"].mean()\n",
    "\n",
    "#  How much avg payment is made from each country grouped by (Country, UserDeviceOS) i.e. (USA, ios)--> (USA, andriod)\n",
    "persona_df.groupby([\"COUNTRY\",\"SOURCE\"])[\"PRICE\"].mean()\n",
    "\n",
    "# Avg spending on the basis of (country, source, sex)\n",
    "persona_df.groupby([\"COUNTRY\",\"SOURCE\",\"SEX\"])[\"PRICE\"].mean()\n",
    "\n",
    "# Avg spending on the basis of (country, source, sex, age); sort in descending (decreasing) order\n",
    "# and List the top five spending\n",
    "spending_grBY_cn_os_gender_age = persona_df.groupby([\"COUNTRY\", \"SOURCE\", \"SEX\", \"AGE\"])[\"PRICE\"].mean().sort_values(ascending=False)\n",
    "spending_grBY_cn_os_gender_age.count        # Check how many rows in  the DF exists as this info might require later when we go for Numeric indexing\n",
    "\n"
   ],
   "metadata": {
    "collapsed": false
   }
  },
  {
   "cell_type": "markdown",
   "source": [
    "# A2.1 Getting the index from the dataFrame\n",
    "Index --> is like an address, that's how any data point across the dataframe can be accessed"
   ],
   "metadata": {
    "collapsed": false
   }
  },
  {
   "cell_type": "code",
   "execution_count": 110,
   "outputs": [
    {
     "data": {
      "text/plain": "RangeIndex(start=0, stop=348, step=1)"
     },
     "execution_count": 110,
     "metadata": {},
     "output_type": "execute_result"
    }
   ],
   "source": [
    "# Check the index of the existing aggregated DF\n",
    "spending_grBY_cn_os_gender_age.index\n",
    "spending_grBY_cn_os_gender_age.get(('bra', 'android',   'male', 46))    # get a specific value from a given index\n",
    "\n",
    "# Reindex the above dataframe using in range [0 ..n] index of indexes like ('deu', 'android',   'male', 26)\n",
    "spending_grBY_cn_os_gender_age_reindexed=spending_grBY_cn_os_gender_age.reset_index()\n",
    "spending_grBY_cn_os_gender_age_reindexed.index      # RangeIndex(start=0, stop=348, step=1)\n",
    "\n",
    "# Observe the DF after reindexing\n",
    "#spending_grBY_cn_os_gender_age_reindexed.head()\n"
   ],
   "metadata": {
    "collapsed": false
   }
  },
  {
   "cell_type": "code",
   "execution_count": 66,
   "outputs": [],
   "source": [],
   "metadata": {
    "collapsed": false
   }
  },
  {
   "cell_type": "markdown",
   "source": [
    "# A2.2 Further Divide the customer into Certain Age Group\n",
    "We will convert Age variable into 5x categorical variables [0_18, 19_23, 24_30, 31_40, 41_70]"
   ],
   "metadata": {
    "collapsed": false
   }
  },
  {
   "cell_type": "code",
   "execution_count": 111,
   "outputs": [
    {
     "data": {
      "text/plain": "28"
     },
     "execution_count": 111,
     "metadata": {},
     "output_type": "execute_result"
    }
   ],
   "source": [
    "# get the average age of customer\n",
    "round(spending_grBY_cn_os_gender_age_reindexed[\"AGE\"].mean())"
   ],
   "metadata": {
    "collapsed": false
   }
  },
  {
   "cell_type": "code",
   "execution_count": 112,
   "outputs": [
    {
     "data": {
      "text/plain": "    COUNTRY   SOURCE     SEX  AGE  PRICE AGE_GROUP\n343     usa      ios  female   38   19.0     31_40\n344     usa      ios  female   30   19.0     24_30\n345     can  android  female   27   19.0     24_30\n346     fra  android    male   18   19.0      0_18\n347     deu  android    male   26    9.0     24_30",
      "text/html": "<div>\n<style scoped>\n    .dataframe tbody tr th:only-of-type {\n        vertical-align: middle;\n    }\n\n    .dataframe tbody tr th {\n        vertical-align: top;\n    }\n\n    .dataframe thead th {\n        text-align: right;\n    }\n</style>\n<table border=\"1\" class=\"dataframe\">\n  <thead>\n    <tr style=\"text-align: right;\">\n      <th></th>\n      <th>COUNTRY</th>\n      <th>SOURCE</th>\n      <th>SEX</th>\n      <th>AGE</th>\n      <th>PRICE</th>\n      <th>AGE_GROUP</th>\n    </tr>\n  </thead>\n  <tbody>\n    <tr>\n      <th>343</th>\n      <td>usa</td>\n      <td>ios</td>\n      <td>female</td>\n      <td>38</td>\n      <td>19.0</td>\n      <td>31_40</td>\n    </tr>\n    <tr>\n      <th>344</th>\n      <td>usa</td>\n      <td>ios</td>\n      <td>female</td>\n      <td>30</td>\n      <td>19.0</td>\n      <td>24_30</td>\n    </tr>\n    <tr>\n      <th>345</th>\n      <td>can</td>\n      <td>android</td>\n      <td>female</td>\n      <td>27</td>\n      <td>19.0</td>\n      <td>24_30</td>\n    </tr>\n    <tr>\n      <th>346</th>\n      <td>fra</td>\n      <td>android</td>\n      <td>male</td>\n      <td>18</td>\n      <td>19.0</td>\n      <td>0_18</td>\n    </tr>\n    <tr>\n      <th>347</th>\n      <td>deu</td>\n      <td>android</td>\n      <td>male</td>\n      <td>26</td>\n      <td>9.0</td>\n      <td>24_30</td>\n    </tr>\n  </tbody>\n</table>\n</div>"
     },
     "execution_count": 112,
     "metadata": {},
     "output_type": "execute_result"
    }
   ],
   "source": [
    "# Convert AGE variable to categorical variable and adding to the reindexed spending DF\n",
    "# Then we will assign the customer from each spending group to a certain age_group as we set the labels\n",
    "# To slice the age data into centain slots, we will use pd.cut() and bins to cut the continuous variable into categorical_variable\n",
    "custom_agegroup_labels = ['0_18','19_23','24_30','31_40','41_70']\n",
    "spending_grBY_cn_os_gender_age_reindexed[\"AGE_GROUP\"] = pd.cut(x=spending_grBY_cn_os_gender_age_reindexed[\"AGE\"], bins=[0,18,23,30,40,70], labels=custom_agegroup_labels)\n",
    "\n",
    "# Check the data whether the AGE_GROUP applied\n",
    "spending_grBY_cn_os_gender_age_reindexed.tail()"
   ],
   "metadata": {
    "collapsed": false
   }
  },
  {
   "cell_type": "markdown",
   "source": [
    "# A2.3 Identify new label-based customers\n",
    "new labels would be (country_source_sex_ageGroup) i.e. bra_android_male_41_70"
   ],
   "metadata": {
    "collapsed": false
   }
  },
  {
   "cell_type": "code",
   "execution_count": 113,
   "outputs": [
    {
     "data": {
      "text/plain": "  COUNTRY   SOURCE     SEX  AGE  PRICE AGE_GROUP     customers_level_based\n0     bra  android    male   46   59.0     41_70    bra_android_male_41_70\n1     usa  android    male   36   59.0     31_40    usa_android_male_31_40\n2     fra  android  female   24   59.0     24_30  fra_android_female_24_30\n3     usa      ios    male   32   54.0     31_40        usa_ios_male_31_40\n4     deu  android  female   36   49.0     31_40  deu_android_female_31_40",
      "text/html": "<div>\n<style scoped>\n    .dataframe tbody tr th:only-of-type {\n        vertical-align: middle;\n    }\n\n    .dataframe tbody tr th {\n        vertical-align: top;\n    }\n\n    .dataframe thead th {\n        text-align: right;\n    }\n</style>\n<table border=\"1\" class=\"dataframe\">\n  <thead>\n    <tr style=\"text-align: right;\">\n      <th></th>\n      <th>COUNTRY</th>\n      <th>SOURCE</th>\n      <th>SEX</th>\n      <th>AGE</th>\n      <th>PRICE</th>\n      <th>AGE_GROUP</th>\n      <th>customers_level_based</th>\n    </tr>\n  </thead>\n  <tbody>\n    <tr>\n      <th>0</th>\n      <td>bra</td>\n      <td>android</td>\n      <td>male</td>\n      <td>46</td>\n      <td>59.0</td>\n      <td>41_70</td>\n      <td>bra_android_male_41_70</td>\n    </tr>\n    <tr>\n      <th>1</th>\n      <td>usa</td>\n      <td>android</td>\n      <td>male</td>\n      <td>36</td>\n      <td>59.0</td>\n      <td>31_40</td>\n      <td>usa_android_male_31_40</td>\n    </tr>\n    <tr>\n      <th>2</th>\n      <td>fra</td>\n      <td>android</td>\n      <td>female</td>\n      <td>24</td>\n      <td>59.0</td>\n      <td>24_30</td>\n      <td>fra_android_female_24_30</td>\n    </tr>\n    <tr>\n      <th>3</th>\n      <td>usa</td>\n      <td>ios</td>\n      <td>male</td>\n      <td>32</td>\n      <td>54.0</td>\n      <td>31_40</td>\n      <td>usa_ios_male_31_40</td>\n    </tr>\n    <tr>\n      <th>4</th>\n      <td>deu</td>\n      <td>android</td>\n      <td>female</td>\n      <td>36</td>\n      <td>49.0</td>\n      <td>31_40</td>\n      <td>deu_android_female_31_40</td>\n    </tr>\n  </tbody>\n</table>\n</div>"
     },
     "execution_count": 113,
     "metadata": {},
     "output_type": "execute_result"
    }
   ],
   "source": [
    "# For the spending dataFrame add a new column \"customers_level_based\" where this will be defined using the country_source_sex_ageGroup for each row in the DataFrame\n",
    "# Instead of ForLoop, we will use List Comprehension to write a for statement\n",
    "spending_grBY_cn_os_gender_age_reindexed[\"customers_level_based\"] = [f\"{i[0]}_{i[1]}_{i[2]}_{i[-1]}\" for i in spending_grBY_cn_os_gender_age_reindexed.values]\n",
    "\n",
    "# inspect the data\n",
    "spending_grBY_cn_os_gender_age_reindexed.head()\n",
    "#spending_grBY_cn_os_gender_age_reindexed[\"customers_level_based\"].head()"
   ],
   "metadata": {
    "collapsed": false
   }
  },
  {
   "cell_type": "code",
   "execution_count": 114,
   "outputs": [
    {
     "data": {
      "text/plain": "      customers_level_based      PRICE\n0  fra_android_female_24_30  45.428571\n1        tur_ios_male_24_30  45.000000\n2        tur_ios_male_31_40  42.333333\n3  tur_android_female_31_40  41.833333\n4    can_android_male_19_23  40.111111",
      "text/html": "<div>\n<style scoped>\n    .dataframe tbody tr th:only-of-type {\n        vertical-align: middle;\n    }\n\n    .dataframe tbody tr th {\n        vertical-align: top;\n    }\n\n    .dataframe thead th {\n        text-align: right;\n    }\n</style>\n<table border=\"1\" class=\"dataframe\">\n  <thead>\n    <tr style=\"text-align: right;\">\n      <th></th>\n      <th>customers_level_based</th>\n      <th>PRICE</th>\n    </tr>\n  </thead>\n  <tbody>\n    <tr>\n      <th>0</th>\n      <td>fra_android_female_24_30</td>\n      <td>45.428571</td>\n    </tr>\n    <tr>\n      <th>1</th>\n      <td>tur_ios_male_24_30</td>\n      <td>45.000000</td>\n    </tr>\n    <tr>\n      <th>2</th>\n      <td>tur_ios_male_31_40</td>\n      <td>42.333333</td>\n    </tr>\n    <tr>\n      <th>3</th>\n      <td>tur_android_female_31_40</td>\n      <td>41.833333</td>\n    </tr>\n    <tr>\n      <th>4</th>\n      <td>can_android_male_19_23</td>\n      <td>40.111111</td>\n    </tr>\n  </tbody>\n</table>\n</div>"
     },
     "execution_count": 114,
     "metadata": {},
     "output_type": "execute_result"
    }
   ],
   "source": [
    "# Access group of rows and columns in the DF using LOC\n",
    "# Select all rows --> using :\n",
    "# Columns we want \"customers_level_based\" and \"PRICING\"\n",
    "# grouped by \"customers_level_based\"\n",
    "# then sort the values by PRICING:mean in descending (decreasing) order\n",
    "\n",
    "spending_grBY_cn_os_gender_age_reindexed= \\\n",
    "    spending_grBY_cn_os_gender_age_reindexed.loc[:,[\"customers_level_based\",\"PRICE\"]].groupby(\"customers_level_based\")[\"PRICE\"].mean().sort_values(ascending=False).reset_index()\n",
    "\n",
    "# inspect the data\n",
    "spending_grBY_cn_os_gender_age_reindexed.head()"
   ],
   "metadata": {
    "collapsed": false
   }
  },
  {
   "cell_type": "markdown",
   "source": [
    "# A2.4 Further divide the label_based customers into 4 Groups {A,B,C,D} and describe each segment in terms of mean, max, min, sum of Pricing\n",
    "A --> Most Profitable Customer\n",
    "D --> Least Profitable Customer"
   ],
   "metadata": {
    "collapsed": false
   }
  },
  {
   "cell_type": "code",
   "execution_count": 115,
   "outputs": [
    {
     "data": {
      "text/plain": "      customers_level_based      PRICE SEGMENT\n0  fra_android_female_24_30  45.428571       A\n1        tur_ios_male_24_30  45.000000       A\n2        tur_ios_male_31_40  42.333333       A\n3  tur_android_female_31_40  41.833333       A\n4    can_android_male_19_23  40.111111       A",
      "text/html": "<div>\n<style scoped>\n    .dataframe tbody tr th:only-of-type {\n        vertical-align: middle;\n    }\n\n    .dataframe tbody tr th {\n        vertical-align: top;\n    }\n\n    .dataframe thead th {\n        text-align: right;\n    }\n</style>\n<table border=\"1\" class=\"dataframe\">\n  <thead>\n    <tr style=\"text-align: right;\">\n      <th></th>\n      <th>customers_level_based</th>\n      <th>PRICE</th>\n      <th>SEGMENT</th>\n    </tr>\n  </thead>\n  <tbody>\n    <tr>\n      <th>0</th>\n      <td>fra_android_female_24_30</td>\n      <td>45.428571</td>\n      <td>A</td>\n    </tr>\n    <tr>\n      <th>1</th>\n      <td>tur_ios_male_24_30</td>\n      <td>45.000000</td>\n      <td>A</td>\n    </tr>\n    <tr>\n      <th>2</th>\n      <td>tur_ios_male_31_40</td>\n      <td>42.333333</td>\n      <td>A</td>\n    </tr>\n    <tr>\n      <th>3</th>\n      <td>tur_android_female_31_40</td>\n      <td>41.833333</td>\n      <td>A</td>\n    </tr>\n    <tr>\n      <th>4</th>\n      <td>can_android_male_19_23</td>\n      <td>40.111111</td>\n      <td>A</td>\n    </tr>\n  </tbody>\n</table>\n</div>"
     },
     "execution_count": 115,
     "metadata": {},
     "output_type": "execute_result"
    }
   ],
   "source": [
    "# Divide the personas into quantiles using qcut, not with cut\n",
    "# Add a new column \"SEGMENT\" into the spending DF with these 4 labels\n",
    "custom_profitability_labels = [\"D\",\"C\",\"B\",\"A\"]\n",
    "spending_grBY_cn_os_gender_age_reindexed[\"SEGMENT\"] = pd.qcut(spending_grBY_cn_os_gender_age_reindexed[\"PRICE\"],4, labels=custom_profitability_labels)\n",
    "spending_grBY_cn_os_gender_age_reindexed.head()"
   ],
   "metadata": {
    "collapsed": false
   }
  },
  {
   "cell_type": "code",
   "execution_count": 116,
   "outputs": [
    {
     "data": {
      "text/plain": "             PRICE                                   \n              mean        max        min          sum\nSEGMENT                                              \nD        29.206780  32.333333  19.000000   817.789833\nC        33.509674  34.077340  32.500000   904.761209\nB        34.999645  36.000000  34.103727   944.990411\nA        38.691234  45.428571  36.060606  1044.663328",
      "text/html": "<div>\n<style scoped>\n    .dataframe tbody tr th:only-of-type {\n        vertical-align: middle;\n    }\n\n    .dataframe tbody tr th {\n        vertical-align: top;\n    }\n\n    .dataframe thead tr th {\n        text-align: left;\n    }\n\n    .dataframe thead tr:last-of-type th {\n        text-align: right;\n    }\n</style>\n<table border=\"1\" class=\"dataframe\">\n  <thead>\n    <tr>\n      <th></th>\n      <th colspan=\"4\" halign=\"left\">PRICE</th>\n    </tr>\n    <tr>\n      <th></th>\n      <th>mean</th>\n      <th>max</th>\n      <th>min</th>\n      <th>sum</th>\n    </tr>\n    <tr>\n      <th>SEGMENT</th>\n      <th></th>\n      <th></th>\n      <th></th>\n      <th></th>\n    </tr>\n  </thead>\n  <tbody>\n    <tr>\n      <th>D</th>\n      <td>29.206780</td>\n      <td>32.333333</td>\n      <td>19.000000</td>\n      <td>817.789833</td>\n    </tr>\n    <tr>\n      <th>C</th>\n      <td>33.509674</td>\n      <td>34.077340</td>\n      <td>32.500000</td>\n      <td>904.761209</td>\n    </tr>\n    <tr>\n      <th>B</th>\n      <td>34.999645</td>\n      <td>36.000000</td>\n      <td>34.103727</td>\n      <td>944.990411</td>\n    </tr>\n    <tr>\n      <th>A</th>\n      <td>38.691234</td>\n      <td>45.428571</td>\n      <td>36.060606</td>\n      <td>1044.663328</td>\n    </tr>\n  </tbody>\n</table>\n</div>"
     },
     "execution_count": 116,
     "metadata": {},
     "output_type": "execute_result"
    }
   ],
   "source": [
    "# Let's Describe each Profitability Segment into further details\n",
    "spending_grBY_cn_os_gender_age_reindexed.groupby(\"SEGMENT\").agg({\"PRICE\": [\"mean\",\"max\",\"min\",\"sum\"]})"
   ],
   "metadata": {
    "collapsed": false
   }
  },
  {
   "cell_type": "code",
   "execution_count": 117,
   "outputs": [
    {
     "data": {
      "text/plain": "           PRICE\ncount  27.000000\nmean   33.509674\nstd     0.492587\nmin    32.500000\n25%    33.000000\n50%    33.627634\n75%    34.000000\nmax    34.077340",
      "text/html": "<div>\n<style scoped>\n    .dataframe tbody tr th:only-of-type {\n        vertical-align: middle;\n    }\n\n    .dataframe tbody tr th {\n        vertical-align: top;\n    }\n\n    .dataframe thead th {\n        text-align: right;\n    }\n</style>\n<table border=\"1\" class=\"dataframe\">\n  <thead>\n    <tr style=\"text-align: right;\">\n      <th></th>\n      <th>PRICE</th>\n    </tr>\n  </thead>\n  <tbody>\n    <tr>\n      <th>count</th>\n      <td>27.000000</td>\n    </tr>\n    <tr>\n      <th>mean</th>\n      <td>33.509674</td>\n    </tr>\n    <tr>\n      <th>std</th>\n      <td>0.492587</td>\n    </tr>\n    <tr>\n      <th>min</th>\n      <td>32.500000</td>\n    </tr>\n    <tr>\n      <th>25%</th>\n      <td>33.000000</td>\n    </tr>\n    <tr>\n      <th>50%</th>\n      <td>33.627634</td>\n    </tr>\n    <tr>\n      <th>75%</th>\n      <td>34.000000</td>\n    </tr>\n    <tr>\n      <th>max</th>\n      <td>34.077340</td>\n    </tr>\n  </tbody>\n</table>\n</div>"
     },
     "execution_count": 117,
     "metadata": {},
     "output_type": "execute_result"
    }
   ],
   "source": [
    "# Describe Segment 'C'\n",
    "spending_grBY_cn_os_gender_age_reindexed[spending_grBY_cn_os_gender_age_reindexed[\"SEGMENT\"] == \"C\"].describe()"
   ],
   "metadata": {
    "collapsed": false
   }
  },
  {
   "cell_type": "code",
   "execution_count": null,
   "outputs": [],
   "source": [
    "#--------------------------------- SEGMENTATION COMPLETES HERE --------------------------------------------"
   ],
   "metadata": {
    "collapsed": false
   }
  },
  {
   "cell_type": "markdown",
   "source": [
    "# B. Simulation"
   ],
   "metadata": {
    "collapsed": false
   }
  },
  {
   "cell_type": "code",
   "execution_count": 100,
   "outputs": [],
   "source": [
    "# Scenario_01: Let’s say a 25-year-old French man downloaded the game and processing on game market with his Android device. In this case, which segment does it belong to and how much does it earn on average?"
   ],
   "metadata": {
    "collapsed": false
   }
  },
  {
   "cell_type": "code",
   "execution_count": 118,
   "outputs": [
    {
     "data": {
      "text/plain": "     customers_level_based  PRICE SEGMENT\n74  fra_android_male_24_30   33.0       C",
      "text/html": "<div>\n<style scoped>\n    .dataframe tbody tr th:only-of-type {\n        vertical-align: middle;\n    }\n\n    .dataframe tbody tr th {\n        vertical-align: top;\n    }\n\n    .dataframe thead th {\n        text-align: right;\n    }\n</style>\n<table border=\"1\" class=\"dataframe\">\n  <thead>\n    <tr style=\"text-align: right;\">\n      <th></th>\n      <th>customers_level_based</th>\n      <th>PRICE</th>\n      <th>SEGMENT</th>\n    </tr>\n  </thead>\n  <tbody>\n    <tr>\n      <th>74</th>\n      <td>fra_android_male_24_30</td>\n      <td>33.0</td>\n      <td>C</td>\n    </tr>\n  </tbody>\n</table>\n</div>"
     },
     "execution_count": 118,
     "metadata": {},
     "output_type": "execute_result"
    }
   ],
   "source": [
    "new_user= \"fra_android_male_24_30\"\n",
    "spending_grBY_cn_os_gender_age_reindexed[spending_grBY_cn_os_gender_age_reindexed[\"customers_level_based\"]==new_user]\n",
    "\n"
   ],
   "metadata": {
    "collapsed": false
   }
  },
  {
   "cell_type": "code",
   "execution_count": null,
   "outputs": [],
   "source": [
    "# Interpretation: This customer is in the C segment and spend potentially $33 to the game.\n",
    "# In this way, special marketing strategies can be planned by segmenting all new customers."
   ],
   "metadata": {
    "collapsed": false
   }
  }
 ],
 "metadata": {
  "kernelspec": {
   "display_name": "Python 3",
   "language": "python",
   "name": "python3"
  },
  "language_info": {
   "codemirror_mode": {
    "name": "ipython",
    "version": 2
   },
   "file_extension": ".py",
   "mimetype": "text/x-python",
   "name": "python",
   "nbconvert_exporter": "python",
   "pygments_lexer": "ipython2",
   "version": "2.7.6"
  }
 },
 "nbformat": 4,
 "nbformat_minor": 0
}
