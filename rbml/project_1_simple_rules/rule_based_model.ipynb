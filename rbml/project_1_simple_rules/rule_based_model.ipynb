{
 "cells": [
  {
   "cell_type": "code",
   "execution_count": null,
   "outputs": [],
   "source": [
    "!pip install human-learn"
   ],
   "metadata": {
    "collapsed": false,
    "pycharm": {
     "is_executing": true
    }
   }
  },
  {
   "cell_type": "markdown",
   "source": [
    "# Machine Learning"
   ],
   "metadata": {
    "collapsed": false
   }
  },
  {
   "cell_type": "code",
   "execution_count": 4,
   "outputs": [],
   "source": [
    "import pandas as pd\n",
    "from sklearn.ensemble import RandomForestClassifier\n",
    "from sklearn.metrics import classification_report"
   ],
   "metadata": {
    "collapsed": false
   }
  },
  {
   "cell_type": "code",
   "execution_count": 15,
   "outputs": [],
   "source": [
    "# Define the Train Dataset and Test Dataset\n",
    "# train -> Pandas DataFrame\n",
    "# test  -> Pandas DataFrame\n",
    "# Data Attributes\n",
    "# Based on the x-axis attributes try to predict whether the Room is \"Occupant\" or \"Not Occupant\"\n",
    "'''\n",
    "    - \"date\",                   -- DROP IT\n",
    "    - \"Temperature\",            - x-axis attribute\n",
    "    - \"Humidity\",               - x-axis attribute\n",
    "    - \"Light\",                  - x-axis attribute\n",
    "    - \"CO2\",                    - x-axis attribute\n",
    "    - \"HumidityRatio\",          - x-axis attribute\n",
    "\n",
    "    - \"Occupancy\"               - y-axis attribute\n",
    "'''\n",
    "train = pd.read_csv(\"resources/occupancy_data/datatraining.txt\").drop(columns=\"date\")\n",
    "test = pd.read_csv(\"resources/occupancy_data/datatest.txt\").drop(columns=\"date\")"
   ],
   "metadata": {
    "collapsed": false
   }
  },
  {
   "cell_type": "code",
   "execution_count": null,
   "outputs": [],
   "source": [
    "# From the Train data source define the x-axis and y-axis\n",
    "# x_axis = {temperature, humidity, light, CO2, HumidityRation}\n",
    "# y_axis = {occupancy}  -- this is our TARGET label to predict for the dataset in x_axis with certain accuracy\n",
    "\n",
    "# train_X (Pandas DF)--> Datasource: Train; x-axis data set        --> n-dimension\n",
    "# train_Y (Pandas DF)--> Datasource: Train; y-axis data set        --> 1-d // label to predict\n",
    "target = \"Occupancy\"\n",
    "train_X, train_Y= train.drop(columns=target),train[target]\n",
    "test_X, test_Y = test.drop(columns=target), test[target]\n",
    "\n",
    "\n",
    "'''\n",
    "(a) We will train our ML model with the train_X and train_Y dataset\n",
    "(b) Then we will ask the Model to predict the Label for test_X dataset\n",
    "(c) Finally, we will compare the predicted Label with the test_X's original label: test_Y\n",
    "'''"
   ],
   "metadata": {
    "collapsed": false,
    "pycharm": {
     "is_executing": true
    }
   }
  },
  {
   "cell_type": "code",
   "execution_count": 25,
   "outputs": [
    {
     "data": {
      "text/plain": "     Temperature  Humidity       Light         CO2  HumidityRatio\n140      23.7000    26.272  585.200000  749.200000       0.004764\n141      23.7180    26.290  578.400000  760.400000       0.004773\n142      23.7300    26.230  572.666667  769.666667       0.004765\n143      23.7225    26.125  493.750000  774.750000       0.004744\n144      23.7540    26.200  488.600000  779.000000       0.004767\n145      23.7600    26.260  568.666667  790.000000       0.004779\n146      23.7300    26.290  536.333333  798.000000       0.004776\n147      23.7540    26.290  509.000000  797.000000       0.004783\n148      23.7540    26.350  476.000000  803.200000       0.004794\n149      23.7360    26.390  510.000000  809.000000       0.004796",
      "text/html": "<div>\n<style scoped>\n    .dataframe tbody tr th:only-of-type {\n        vertical-align: middle;\n    }\n\n    .dataframe tbody tr th {\n        vertical-align: top;\n    }\n\n    .dataframe thead th {\n        text-align: right;\n    }\n</style>\n<table border=\"1\" class=\"dataframe\">\n  <thead>\n    <tr style=\"text-align: right;\">\n      <th></th>\n      <th>Temperature</th>\n      <th>Humidity</th>\n      <th>Light</th>\n      <th>CO2</th>\n      <th>HumidityRatio</th>\n    </tr>\n  </thead>\n  <tbody>\n    <tr>\n      <th>140</th>\n      <td>23.7000</td>\n      <td>26.272</td>\n      <td>585.200000</td>\n      <td>749.200000</td>\n      <td>0.004764</td>\n    </tr>\n    <tr>\n      <th>141</th>\n      <td>23.7180</td>\n      <td>26.290</td>\n      <td>578.400000</td>\n      <td>760.400000</td>\n      <td>0.004773</td>\n    </tr>\n    <tr>\n      <th>142</th>\n      <td>23.7300</td>\n      <td>26.230</td>\n      <td>572.666667</td>\n      <td>769.666667</td>\n      <td>0.004765</td>\n    </tr>\n    <tr>\n      <th>143</th>\n      <td>23.7225</td>\n      <td>26.125</td>\n      <td>493.750000</td>\n      <td>774.750000</td>\n      <td>0.004744</td>\n    </tr>\n    <tr>\n      <th>144</th>\n      <td>23.7540</td>\n      <td>26.200</td>\n      <td>488.600000</td>\n      <td>779.000000</td>\n      <td>0.004767</td>\n    </tr>\n    <tr>\n      <th>145</th>\n      <td>23.7600</td>\n      <td>26.260</td>\n      <td>568.666667</td>\n      <td>790.000000</td>\n      <td>0.004779</td>\n    </tr>\n    <tr>\n      <th>146</th>\n      <td>23.7300</td>\n      <td>26.290</td>\n      <td>536.333333</td>\n      <td>798.000000</td>\n      <td>0.004776</td>\n    </tr>\n    <tr>\n      <th>147</th>\n      <td>23.7540</td>\n      <td>26.290</td>\n      <td>509.000000</td>\n      <td>797.000000</td>\n      <td>0.004783</td>\n    </tr>\n    <tr>\n      <th>148</th>\n      <td>23.7540</td>\n      <td>26.350</td>\n      <td>476.000000</td>\n      <td>803.200000</td>\n      <td>0.004794</td>\n    </tr>\n    <tr>\n      <th>149</th>\n      <td>23.7360</td>\n      <td>26.390</td>\n      <td>510.000000</td>\n      <td>809.000000</td>\n      <td>0.004796</td>\n    </tr>\n  </tbody>\n</table>\n</div>"
     },
     "execution_count": 25,
     "metadata": {},
     "output_type": "execute_result"
    }
   ],
   "source": [
    "# For checking if ok\n",
    "type(train_X)\n",
    "type(train_Y)\n",
    "\n",
    "# get the first 10 rows from train_X dataset\n",
    "# get the first 10 rows from train-Y dataset\n",
    "train_X.head(10)\n",
    "train_Y.head(10)\n",
    "\n",
    "# get the first 10 rows of test_X and test_Y dataset\n",
    "test_X.head(10)\n",
    "#test_Y.head(10)"
   ],
   "metadata": {
    "collapsed": false
   }
  },
  {
   "cell_type": "code",
   "execution_count": 28,
   "outputs": [
    {
     "name": "stdout",
     "output_type": "stream",
     "text": [
      "              precision    recall  f1-score   support\n",
      "\n",
      "           0       0.96      0.97      0.96      1693\n",
      "           1       0.95      0.92      0.93       972\n",
      "\n",
      "    accuracy                           0.95      2665\n",
      "   macro avg       0.95      0.95      0.95      2665\n",
      "weighted avg       0.95      0.95      0.95      2665\n",
      "\n"
     ]
    }
   ],
   "source": [
    "# Using Machine Learning Model - RandomForestClassifier\n",
    "# Random Forest Classifier = Collection of Decision Trees --> CART (Classification and Regression Tree) Model\n",
    "# Its not a Rule Based ML solution\n",
    "# Instead we will ask the Model to generate the Rule by itself with the given X-dataset and Y-dataset\n",
    "\n",
    "\n",
    "# Where to Split the Tree?\n",
    "# why random_state parameter is used?\n",
    "# it controls the randomness of the estimator - to make it more deterministic\n",
    "# Decision Trees use heuristics process. DT dont guarantee the same solution globally. There will be variations in the tree structure each time you build a model. Passing a specific seed to <random_state> ensures the same result is generated each time you build the model.\n",
    "\n",
    "# Randomness --> GINI--> Impurity in the value of a dataset\n",
    "\n",
    "\n",
    "forest_model = RandomForestClassifier(random_state=1)   # Define the ML model which will be used\n",
    "forest_model.fit(train_X,train_Y)  # Train the Machine Learning model with Training DataSet X and Y\n",
    "predicted_Y = forest_model.predict(test_X);    # let the ML model predict the Lable of Testing dataset Text-X\n",
    "# print the classification report on the Prediction accuracy w.r.t. test_Y\n",
    "print(classification_report(test_Y, predicted_Y))\n",
    "\n",
    "# Check the f1-score - Measures a model's accuracy\n",
    "'''\n",
    "f1-score = 2*[(precision * recall)/(precision+recall)]\n",
    "\n",
    "'''"
   ],
   "metadata": {
    "collapsed": false
   }
  },
  {
   "cell_type": "code",
   "execution_count": null,
   "outputs": [],
   "source": [],
   "metadata": {
    "collapsed": false
   }
  }
 ],
 "metadata": {
  "kernelspec": {
   "display_name": "Python 3",
   "language": "python",
   "name": "python3"
  },
  "language_info": {
   "codemirror_mode": {
    "name": "ipython",
    "version": 2
   },
   "file_extension": ".py",
   "mimetype": "text/x-python",
   "name": "python",
   "nbconvert_exporter": "python",
   "pygments_lexer": "ipython2",
   "version": "2.7.6"
  }
 },
 "nbformat": 4,
 "nbformat_minor": 0
}
